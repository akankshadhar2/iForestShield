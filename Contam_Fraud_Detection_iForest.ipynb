{
  "nbformat": 4,
  "nbformat_minor": 0,
  "metadata": {
    "colab": {
      "provenance": []
    },
    "kernelspec": {
      "name": "python3",
      "display_name": "Python 3"
    }
  },
  "cells": [
    {
      "cell_type": "markdown",
      "source": [
        "###Mount Google Drive"
      ],
      "metadata": {
        "id": "Ul3l_kYfgDDw"
      }
    },
    {
      "cell_type": "code",
      "metadata": {
        "id": "4phM0hV-5YVQ",
        "colab": {
          "base_uri": "https://localhost:8080/"
        },
        "outputId": "40c28e8a-a547-45f6-b303-cc49590b1460"
      },
      "source": [
        "from google.colab import drive\n",
        "drive.mount('/content/drive')"
      ],
      "execution_count": null,
      "outputs": [
        {
          "output_type": "stream",
          "name": "stdout",
          "text": [
            "Mounted at /content/drive\n"
          ]
        }
      ]
    },
    {
      "cell_type": "code",
      "metadata": {
        "id": "jWGZce9b5qjo"
      },
      "source": [
        "import pandas as pd\n",
        "import numpy as np\n",
        "from sklearn.ensemble import IsolationForest"
      ],
      "execution_count": null,
      "outputs": []
    },
    {
      "cell_type": "markdown",
      "source": [
        "###Read CSV data into a DataFrame Object"
      ],
      "metadata": {
        "id": "ozjIiYLLgJOl"
      }
    },
    {
      "cell_type": "code",
      "metadata": {
        "id": "1FJHQS5f5zyX"
      },
      "source": [
        "data = pd.read_csv('/content/drive/MyDrive/ISAA/creditcard.csv')\n",
        "data = data.drop(['Time'] , axis=1)"
      ],
      "execution_count": null,
      "outputs": []
    },
    {
      "cell_type": "code",
      "metadata": {
        "id": "2FPC4bBP7Htk",
        "colab": {
          "base_uri": "https://localhost:8080/",
          "height": 205
        },
        "outputId": "422b2d77-87f4-471e-a375-5309dc1a7781"
      },
      "source": [
        "data.head(2)"
      ],
      "execution_count": null,
      "outputs": [
        {
          "output_type": "execute_result",
          "data": {
            "text/plain": [
              "         V1        V2        V3        V4        V5        V6        V7  \\\n",
              "0 -1.359807 -0.072781  2.536347  1.378155 -0.338321  0.462388  0.239599   \n",
              "1  1.191857  0.266151  0.166480  0.448154  0.060018 -0.082361 -0.078803   \n",
              "\n",
              "         V8        V9       V10  ...       V21       V22       V23       V24  \\\n",
              "0  0.098698  0.363787  0.090794  ... -0.018307  0.277838 -0.110474  0.066928   \n",
              "1  0.085102 -0.255425 -0.166974  ... -0.225775 -0.638672  0.101288 -0.339846   \n",
              "\n",
              "        V25       V26       V27       V28  Amount  Class  \n",
              "0  0.128539 -0.189115  0.133558 -0.021053  149.62      0  \n",
              "1  0.167170  0.125895 -0.008983  0.014724    2.69      0  \n",
              "\n",
              "[2 rows x 30 columns]"
            ],
            "text/html": [
              "\n",
              "  <div id=\"df-96846895-3696-474f-be46-22f299705440\">\n",
              "    <div class=\"colab-df-container\">\n",
              "      <div>\n",
              "<style scoped>\n",
              "    .dataframe tbody tr th:only-of-type {\n",
              "        vertical-align: middle;\n",
              "    }\n",
              "\n",
              "    .dataframe tbody tr th {\n",
              "        vertical-align: top;\n",
              "    }\n",
              "\n",
              "    .dataframe thead th {\n",
              "        text-align: right;\n",
              "    }\n",
              "</style>\n",
              "<table border=\"1\" class=\"dataframe\">\n",
              "  <thead>\n",
              "    <tr style=\"text-align: right;\">\n",
              "      <th></th>\n",
              "      <th>V1</th>\n",
              "      <th>V2</th>\n",
              "      <th>V3</th>\n",
              "      <th>V4</th>\n",
              "      <th>V5</th>\n",
              "      <th>V6</th>\n",
              "      <th>V7</th>\n",
              "      <th>V8</th>\n",
              "      <th>V9</th>\n",
              "      <th>V10</th>\n",
              "      <th>...</th>\n",
              "      <th>V21</th>\n",
              "      <th>V22</th>\n",
              "      <th>V23</th>\n",
              "      <th>V24</th>\n",
              "      <th>V25</th>\n",
              "      <th>V26</th>\n",
              "      <th>V27</th>\n",
              "      <th>V28</th>\n",
              "      <th>Amount</th>\n",
              "      <th>Class</th>\n",
              "    </tr>\n",
              "  </thead>\n",
              "  <tbody>\n",
              "    <tr>\n",
              "      <th>0</th>\n",
              "      <td>-1.359807</td>\n",
              "      <td>-0.072781</td>\n",
              "      <td>2.536347</td>\n",
              "      <td>1.378155</td>\n",
              "      <td>-0.338321</td>\n",
              "      <td>0.462388</td>\n",
              "      <td>0.239599</td>\n",
              "      <td>0.098698</td>\n",
              "      <td>0.363787</td>\n",
              "      <td>0.090794</td>\n",
              "      <td>...</td>\n",
              "      <td>-0.018307</td>\n",
              "      <td>0.277838</td>\n",
              "      <td>-0.110474</td>\n",
              "      <td>0.066928</td>\n",
              "      <td>0.128539</td>\n",
              "      <td>-0.189115</td>\n",
              "      <td>0.133558</td>\n",
              "      <td>-0.021053</td>\n",
              "      <td>149.62</td>\n",
              "      <td>0</td>\n",
              "    </tr>\n",
              "    <tr>\n",
              "      <th>1</th>\n",
              "      <td>1.191857</td>\n",
              "      <td>0.266151</td>\n",
              "      <td>0.166480</td>\n",
              "      <td>0.448154</td>\n",
              "      <td>0.060018</td>\n",
              "      <td>-0.082361</td>\n",
              "      <td>-0.078803</td>\n",
              "      <td>0.085102</td>\n",
              "      <td>-0.255425</td>\n",
              "      <td>-0.166974</td>\n",
              "      <td>...</td>\n",
              "      <td>-0.225775</td>\n",
              "      <td>-0.638672</td>\n",
              "      <td>0.101288</td>\n",
              "      <td>-0.339846</td>\n",
              "      <td>0.167170</td>\n",
              "      <td>0.125895</td>\n",
              "      <td>-0.008983</td>\n",
              "      <td>0.014724</td>\n",
              "      <td>2.69</td>\n",
              "      <td>0</td>\n",
              "    </tr>\n",
              "  </tbody>\n",
              "</table>\n",
              "<p>2 rows × 30 columns</p>\n",
              "</div>\n",
              "      <button class=\"colab-df-convert\" onclick=\"convertToInteractive('df-96846895-3696-474f-be46-22f299705440')\"\n",
              "              title=\"Convert this dataframe to an interactive table.\"\n",
              "              style=\"display:none;\">\n",
              "        \n",
              "  <svg xmlns=\"http://www.w3.org/2000/svg\" height=\"24px\"viewBox=\"0 0 24 24\"\n",
              "       width=\"24px\">\n",
              "    <path d=\"M0 0h24v24H0V0z\" fill=\"none\"/>\n",
              "    <path d=\"M18.56 5.44l.94 2.06.94-2.06 2.06-.94-2.06-.94-.94-2.06-.94 2.06-2.06.94zm-11 1L8.5 8.5l.94-2.06 2.06-.94-2.06-.94L8.5 2.5l-.94 2.06-2.06.94zm10 10l.94 2.06.94-2.06 2.06-.94-2.06-.94-.94-2.06-.94 2.06-2.06.94z\"/><path d=\"M17.41 7.96l-1.37-1.37c-.4-.4-.92-.59-1.43-.59-.52 0-1.04.2-1.43.59L10.3 9.45l-7.72 7.72c-.78.78-.78 2.05 0 2.83L4 21.41c.39.39.9.59 1.41.59.51 0 1.02-.2 1.41-.59l7.78-7.78 2.81-2.81c.8-.78.8-2.07 0-2.86zM5.41 20L4 18.59l7.72-7.72 1.47 1.35L5.41 20z\"/>\n",
              "  </svg>\n",
              "      </button>\n",
              "      \n",
              "  <style>\n",
              "    .colab-df-container {\n",
              "      display:flex;\n",
              "      flex-wrap:wrap;\n",
              "      gap: 12px;\n",
              "    }\n",
              "\n",
              "    .colab-df-convert {\n",
              "      background-color: #E8F0FE;\n",
              "      border: none;\n",
              "      border-radius: 50%;\n",
              "      cursor: pointer;\n",
              "      display: none;\n",
              "      fill: #1967D2;\n",
              "      height: 32px;\n",
              "      padding: 0 0 0 0;\n",
              "      width: 32px;\n",
              "    }\n",
              "\n",
              "    .colab-df-convert:hover {\n",
              "      background-color: #E2EBFA;\n",
              "      box-shadow: 0px 1px 2px rgba(60, 64, 67, 0.3), 0px 1px 3px 1px rgba(60, 64, 67, 0.15);\n",
              "      fill: #174EA6;\n",
              "    }\n",
              "\n",
              "    [theme=dark] .colab-df-convert {\n",
              "      background-color: #3B4455;\n",
              "      fill: #D2E3FC;\n",
              "    }\n",
              "\n",
              "    [theme=dark] .colab-df-convert:hover {\n",
              "      background-color: #434B5C;\n",
              "      box-shadow: 0px 1px 3px 1px rgba(0, 0, 0, 0.15);\n",
              "      filter: drop-shadow(0px 1px 2px rgba(0, 0, 0, 0.3));\n",
              "      fill: #FFFFFF;\n",
              "    }\n",
              "  </style>\n",
              "\n",
              "      <script>\n",
              "        const buttonEl =\n",
              "          document.querySelector('#df-96846895-3696-474f-be46-22f299705440 button.colab-df-convert');\n",
              "        buttonEl.style.display =\n",
              "          google.colab.kernel.accessAllowed ? 'block' : 'none';\n",
              "\n",
              "        async function convertToInteractive(key) {\n",
              "          const element = document.querySelector('#df-96846895-3696-474f-be46-22f299705440');\n",
              "          const dataTable =\n",
              "            await google.colab.kernel.invokeFunction('convertToInteractive',\n",
              "                                                     [key], {});\n",
              "          if (!dataTable) return;\n",
              "\n",
              "          const docLinkHtml = 'Like what you see? Visit the ' +\n",
              "            '<a target=\"_blank\" href=https://colab.research.google.com/notebooks/data_table.ipynb>data table notebook</a>'\n",
              "            + ' to learn more about interactive tables.';\n",
              "          element.innerHTML = '';\n",
              "          dataTable['output_type'] = 'display_data';\n",
              "          await google.colab.output.renderOutput(dataTable, element);\n",
              "          const docLink = document.createElement('div');\n",
              "          docLink.innerHTML = docLinkHtml;\n",
              "          element.appendChild(docLink);\n",
              "        }\n",
              "      </script>\n",
              "    </div>\n",
              "  </div>\n",
              "  "
            ]
          },
          "metadata": {},
          "execution_count": 4
        }
      ]
    },
    {
      "cell_type": "code",
      "metadata": {
        "id": "Dx4Tc85MFffW",
        "colab": {
          "base_uri": "https://localhost:8080/"
        },
        "outputId": "a60b5814-41b4-4a44-c90e-c7a55ab95d3c"
      },
      "source": [
        "data.Class.value_counts()"
      ],
      "execution_count": null,
      "outputs": [
        {
          "output_type": "execute_result",
          "data": {
            "text/plain": [
              "0    284315\n",
              "1       492\n",
              "Name: Class, dtype: int64"
            ]
          },
          "metadata": {},
          "execution_count": 5
        }
      ]
    },
    {
      "cell_type": "markdown",
      "source": [
        "###Importing Modules"
      ],
      "metadata": {
        "id": "ON81mZ47jt1l"
      }
    },
    {
      "cell_type": "code",
      "metadata": {
        "id": "tTdnH4Vo9Bz7"
      },
      "source": [
        "from sklearn.ensemble import IsolationForest\n",
        "from sklearn.svm import OneClassSVM\n",
        "from sklearn.neighbors import LocalOutlierFactor\n",
        "from sklearn.cluster import KMeans\n",
        "from sklearn.model_selection import train_test_split\n",
        "from sklearn.metrics import accuracy_score\n",
        "from sklearn.metrics import auc\n",
        "from sklearn.metrics import roc_curve\n",
        "from sklearn.metrics import roc_auc_score\n",
        "from sklearn.metrics import confusion_matrix, precision_recall_fscore_support"
      ],
      "execution_count": null,
      "outputs": []
    },
    {
      "cell_type": "markdown",
      "source": [
        "###Splitting of Dataset"
      ],
      "metadata": {
        "id": "4iCNOLabj2DL"
      }
    },
    {
      "cell_type": "code",
      "metadata": {
        "id": "fyclJzJBBSKL",
        "colab": {
          "base_uri": "https://localhost:8080/"
        },
        "outputId": "96dcdc41-bb65-4aa3-dfc2-061dbcb09ba8"
      },
      "source": [
        "# Dividing the dataset into training and testing sets (60/40 class distribution)\n",
        "y_true=data['Class']\n",
        "df_data=data.drop('Class',1)\n",
        "X_train, X_test, y_train, y_test = train_test_split(df_data, y_true, test_size=0.4, random_state=42)"
      ],
      "execution_count": null,
      "outputs": [
        {
          "output_type": "stream",
          "name": "stderr",
          "text": [
            "/usr/local/lib/python3.7/dist-packages/ipykernel_launcher.py:3: FutureWarning: In a future version of pandas all arguments of DataFrame.drop except for the argument 'labels' will be keyword-only\n",
            "  This is separate from the ipykernel package so we can avoid doing imports until\n"
          ]
        }
      ]
    },
    {
      "cell_type": "markdown",
      "source": [
        "###Model Training and Prediction Functions"
      ],
      "metadata": {
        "id": "kpBMxvUmj5Tx"
      }
    },
    {
      "cell_type": "code",
      "metadata": {
        "id": "V9qmYi4yB77q"
      },
      "source": [
        "# Train the model 5 times separately on 5 randomized samples of 10000 and add trained model to an model array\n",
        "def train(X,clf,ensembleSize=5,sampleSize=10000):\n",
        "    mdlLst=[]\n",
        "    for n in range(ensembleSize):\n",
        "        X=df_data.sample(sampleSize)\n",
        "        clf.fit(X)\n",
        "        mdlLst.append(clf)\n",
        "    return mdlLst"
      ],
      "execution_count": null,
      "outputs": []
    },
    {
      "cell_type": "code",
      "metadata": {
        "id": "pAuI7nugCES1"
      },
      "source": [
        "## Prediction function\n",
        "def predict(X,mdlLst):\n",
        "    y_pred=np.zeros(X.shape[0])\n",
        "    for clf in mdlLst:\n",
        "        y_pred=np.add(y_pred,clf.decision_function(X).reshape(X.shape[0],))\n",
        "    y_pred=(y_pred*1.0)/len(mdlLst)\n",
        "    return y_pred"
      ],
      "execution_count": null,
      "outputs": []
    },
    {
      "cell_type": "markdown",
      "source": [
        "###Initialize Isolation forest model"
      ],
      "metadata": {
        "id": "0P6eI5c1kxiu"
      }
    },
    {
      "cell_type": "code",
      "metadata": {
        "id": "WE76xUJABXQM"
      },
      "source": [
        "alg1=IsolationForest(n_estimators=100,\n",
        "                     max_samples='auto',\n",
        "                     contamination=0.01,\n",
        "                     max_features=1.0,\n",
        "                     bootstrap=False,\n",
        "                     n_jobs=-1,\n",
        "                     random_state=42,\n",
        "                     verbose=0)"
      ],
      "execution_count": null,
      "outputs": []
    },
    {
      "cell_type": "code",
      "source": [
        "alg2=IsolationForest(n_estimators=100,\n",
        "                     max_samples='auto',\n",
        "                     contamination=0.002,\n",
        "                     max_features=1.0,\n",
        "                     bootstrap=False,\n",
        "                     n_jobs=-1,\n",
        "                     random_state=42,\n",
        "                     verbose=0)"
      ],
      "metadata": {
        "id": "uVxdxsqvEWrt"
      },
      "execution_count": null,
      "outputs": []
    },
    {
      "cell_type": "code",
      "source": [
        "alg3=IsolationForest(n_estimators=100,\n",
        "                     max_samples='auto',\n",
        "                     contamination=0.0001,\n",
        "                     max_features=1.0,\n",
        "                     bootstrap=False,\n",
        "                     n_jobs=-1,\n",
        "                     random_state=42,\n",
        "                     verbose=0)"
      ],
      "metadata": {
        "id": "75QHOybuAhW8"
      },
      "execution_count": null,
      "outputs": []
    },
    {
      "cell_type": "markdown",
      "source": [
        "###Training the Models"
      ],
      "metadata": {
        "id": "CbECrTszlW7M"
      }
    },
    {
      "cell_type": "code",
      "metadata": {
        "id": "GJNHO13UBylZ",
        "colab": {
          "base_uri": "https://localhost:8080/"
        },
        "outputId": "26412230-202c-4e3d-b82d-c0de594e64ca"
      },
      "source": [
        "if_mdlLst1=train(X_train,alg1)\n",
        "\n",
        "# With contamination == 0.01\n",
        "if_y_pred1=predict(X_test,if_mdlLst1)\n",
        "if_y_pred1=1-if_y_pred1\n",
        "\n",
        "#Creating class labels based on decision function\n",
        "if_y_pred1_class=if_y_pred1.copy()\n",
        "if_y_pred1_class[if_y_pred1>=np.percentile(if_y_pred1,95)]=1\n",
        "if_y_pred1_class[if_y_pred1<np.percentile(if_y_pred1,95)]=0\n",
        "\n",
        "# With contamination == 0.01\n",
        "# print(roc_auc_score(y_test, if_y_pred1_class))\n",
        "fpr1, tpr1, _1 = roc_curve(y_test, if_y_pred1_class)\n",
        "# AUC\n",
        "IF_auc1 = auc(fpr1, tpr1)\n",
        "print(IF_auc1)"
      ],
      "execution_count": null,
      "outputs": [
        {
          "output_type": "stream",
          "name": "stdout",
          "text": [
            "0.8971280513775104\n"
          ]
        }
      ]
    },
    {
      "cell_type": "code",
      "source": [
        "if_mdlLst2=train(X_train,alg2)\n",
        "\n",
        "# With contamination == 0.002\n",
        "if_y_pred2=predict(X_test,if_mdlLst2)\n",
        "if_y_pred2=1-if_y_pred2\n",
        "\n",
        "#Creating class labels based on decision function\n",
        "if_y_pred2_class=if_y_pred2.copy()\n",
        "if_y_pred2_class[if_y_pred2>=np.percentile(if_y_pred2,95)]=1\n",
        "if_y_pred2_class[if_y_pred2<np.percentile(if_y_pred2,95)]=0\n",
        "\n",
        "# With contamination == 0.002\n",
        "fpr2, tpr2, _2 = roc_curve(y_test, if_y_pred2_class)\n",
        "# AUC\n",
        "IF_auc2 = auc(fpr2, tpr2)\n",
        "print(IF_auc2)"
      ],
      "metadata": {
        "colab": {
          "base_uri": "https://localhost:8080/"
        },
        "id": "agKmxJWQEe8m",
        "outputId": "2def8821-05a4-4acd-a862-0156649eab2d"
      },
      "execution_count": null,
      "outputs": [
        {
          "output_type": "stream",
          "name": "stdout",
          "text": [
            "0.9049946434190933\n"
          ]
        }
      ]
    },
    {
      "cell_type": "code",
      "source": [
        "if_mdlLst3=train(X_train,alg3)\n",
        "\n",
        "# With contamination == 0.0001\n",
        "if_y_pred3=predict(X_test,if_mdlLst3)\n",
        "if_y_pred3=1-if_y_pred3\n",
        "\n",
        "#Creating class labels based on decision function\n",
        "if_y_pred3_class=if_y_pred3.copy()\n",
        "if_y_pred3_class[if_y_pred3>=np.percentile(if_y_pred3,95)]=1\n",
        "if_y_pred3_class[if_y_pred3<np.percentile(if_y_pred3,95)]=0\n",
        "\n",
        "# With contamination == 0.0001\n",
        "fpr3, tpr3, _3 = roc_curve(y_test, if_y_pred3_class)\n",
        "# AUC\n",
        "IF_auc3 = auc(fpr3, tpr3)\n",
        "print(IF_auc3)"
      ],
      "metadata": {
        "colab": {
          "base_uri": "https://localhost:8080/"
        },
        "id": "GSqLiH5AArss",
        "outputId": "db5c464b-3f37-4762-cb12-97ab9328ffb9"
      },
      "execution_count": null,
      "outputs": [
        {
          "output_type": "stream",
          "name": "stdout",
          "text": [
            "0.8971280513775104\n"
          ]
        }
      ]
    },
    {
      "cell_type": "markdown",
      "source": [
        "###Confusion Matrix"
      ],
      "metadata": {
        "id": "IX4fY7tGlnE9"
      }
    },
    {
      "cell_type": "code",
      "source": [
        "import seaborn as sn\n",
        "import matplotlib.pyplot as plt\n",
        "if_cm1=confusion_matrix(y_test, if_y_pred1_class)\n",
        "if_cm2=confusion_matrix(y_test, if_y_pred2_class)\n",
        "if_cm3=confusion_matrix(y_test, if_y_pred3_class)"
      ],
      "metadata": {
        "id": "DgJp3HTvFrPx"
      },
      "execution_count": null,
      "outputs": []
    },
    {
      "cell_type": "code",
      "metadata": {
        "id": "JJJvJRRLEdgJ",
        "colab": {
          "base_uri": "https://localhost:8080/",
          "height": 290
        },
        "outputId": "846f7098-a147-4345-9b8e-ab3bae023d43"
      },
      "source": [
        "# With contamination == 0.01\n",
        "df_cm1 = pd.DataFrame(if_cm1,['True Normal','True Fraud'],['Pred Normal','Pred Fraud'])\n",
        "plt.figure(figsize = (8,4))\n",
        "sn.set(font_scale=1.4)#for label size\n",
        "sn.heatmap(df_cm1, annot=True,annot_kws={\"size\": 16},fmt='g')# font size"
      ],
      "execution_count": null,
      "outputs": [
        {
          "output_type": "execute_result",
          "data": {
            "text/plain": [
              "<matplotlib.axes._subplots.AxesSubplot at 0x7f14ecb51810>"
            ]
          },
          "metadata": {},
          "execution_count": 77
        },
        {
          "output_type": "display_data",
          "data": {
            "text/plain": [
              "<Figure size 576x288 with 2 Axes>"
            ],
            "image/png": "[encoded data removed]"
          },
          "metadata": {}
        }
      ]
    },
    {
      "cell_type": "code",
      "source": [
        "# With contamination == 0.002\n",
        "df_cm2 = pd.DataFrame(if_cm2,['True Normal','True Fraud'],['Pred Normal','Pred Fraud'])\n",
        "plt.figure(figsize = (8,4))\n",
        "sn.set(font_scale=1.4)#for label size\n",
        "sn.heatmap(df_cm2, annot=True,annot_kws={\"size\": 16},fmt='g')# font size"
      ],
      "metadata": {
        "colab": {
          "base_uri": "https://localhost:8080/",
          "height": 290
        },
        "id": "BobEkAngGDzZ",
        "outputId": "01c66377-febc-4ea5-fa41-b25d6e15f1f7"
      },
      "execution_count": null,
      "outputs": [
        {
          "output_type": "execute_result",
          "data": {
            "text/plain": [
              "<matplotlib.axes._subplots.AxesSubplot at 0x7f14ecacffd0>"
            ]
          },
          "metadata": {},
          "execution_count": 78
        },
        {
          "output_type": "display_data",
          "data": {
            "text/plain": [
              "<Figure size 576x288 with 2 Axes>"
            ],
            "image/png": "[encoded data removed]"
          },
          "metadata": {}
        }
      ]
    },
    {
      "cell_type": "code",
      "source": [
        "# With contamination == 0.0001\n",
        "df_cm3 = pd.DataFrame(if_cm3,['True Normal','True Fraud'],['Pred Normal','Pred Fraud'])\n",
        "plt.figure(figsize = (8,4))\n",
        "sn.set(font_scale=1.4)#for label size\n",
        "sn.heatmap(df_cm3, annot=True,annot_kws={\"size\": 16},fmt='g')# font size"
      ],
      "metadata": {
        "colab": {
          "base_uri": "https://localhost:8080/",
          "height": 290
        },
        "id": "3YiYwGIGGFM_",
        "outputId": "bb1fc085-c31e-4b22-b12e-7db76be749ea"
      },
      "execution_count": null,
      "outputs": [
        {
          "output_type": "execute_result",
          "data": {
            "text/plain": [
              "<matplotlib.axes._subplots.AxesSubplot at 0x7f14e8ade750>"
            ]
          },
          "metadata": {},
          "execution_count": 79
        },
        {
          "output_type": "display_data",
          "data": {
            "text/plain": [
              "<Figure size 576x288 with 2 Axes>"
            ],
            "image/png": "[encoded data removed]"
          },
          "metadata": {}
        }
      ]
    }
  ]
}