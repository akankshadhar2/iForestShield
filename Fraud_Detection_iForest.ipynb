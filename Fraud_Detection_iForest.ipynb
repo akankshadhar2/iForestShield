{
  "nbformat": 4,
  "nbformat_minor": 0,
  "metadata": {
    "colab": {
      "provenance": []
    },
    "kernelspec": {
      "name": "python3",
      "display_name": "Python 3"
    }
  },
  "cells": [
    {
      "cell_type": "markdown",
      "source": [
        "###Mount Google Drive"
      ],
      "metadata": {
        "id": "Ul3l_kYfgDDw"
      }
    },
    {
      "cell_type": "code",
      "metadata": {
        "id": "4phM0hV-5YVQ",
        "colab": {
          "base_uri": "https://localhost:8080/"
        },
        "outputId": "2e0f3468-9a10-421f-b4a4-978283d5fa23"
      },
      "source": [
        "from google.colab import drive\n",
        "drive.mount('/content/drive')"
      ],
      "execution_count": null,
      "outputs": [
        {
          "output_type": "stream",
          "name": "stdout",
          "text": [
            "Drive already mounted at /content/drive; to attempt to forcibly remount, call drive.mount(\"/content/drive\", force_remount=True).\n"
          ]
        }
      ]
    },
    {
      "cell_type": "code",
      "metadata": {
        "id": "jWGZce9b5qjo"
      },
      "source": [
        "import pandas as pd\n",
        "import numpy as np\n",
        "from sklearn.ensemble import IsolationForest"
      ],
      "execution_count": null,
      "outputs": []
    },
    {
      "cell_type": "markdown",
      "source": [
        "###Read CSV data into a DataFrame Object"
      ],
      "metadata": {
        "id": "ozjIiYLLgJOl"
      }
    },
    {
      "cell_type": "code",
      "metadata": {
        "id": "1FJHQS5f5zyX"
      },
      "source": [
        "data = pd.read_csv('/content/drive/MyDrive/ISAA/creditcard.csv')\n",
        "data = data.drop(['Time'] , axis=1)"
      ],
      "execution_count": null,
      "outputs": []
    },
    {
      "cell_type": "code",
      "metadata": {
        "id": "2FPC4bBP7Htk",
        "colab": {
          "base_uri": "https://localhost:8080/",
          "height": 205
        },
        "outputId": "9d483d9b-c1a5-488c-d6d3-04b0801991fa"
      },
      "source": [
        "data.head(2)"
      ],
      "execution_count": null,
      "outputs": [
        {
          "output_type": "execute_result",
          "data": {
            "text/plain": [
              "         V1        V2        V3        V4        V5        V6        V7  \\\n",
              "0 -1.359807 -0.072781  2.536347  1.378155 -0.338321  0.462388  0.239599   \n",
              "1  1.191857  0.266151  0.166480  0.448154  0.060018 -0.082361 -0.078803   \n",
              "\n",
              "         V8        V9       V10  ...       V21       V22       V23       V24  \\\n",
              "0  0.098698  0.363787  0.090794  ... -0.018307  0.277838 -0.110474  0.066928   \n",
              "1  0.085102 -0.255425 -0.166974  ... -0.225775 -0.638672  0.101288 -0.339846   \n",
              "\n",
              "        V25       V26       V27       V28  Amount  Class  \n",
              "0  0.128539 -0.189115  0.133558 -0.021053  149.62      0  \n",
              "1  0.167170  0.125895 -0.008983  0.014724    2.69      0  \n",
              "\n",
              "[2 rows x 30 columns]"
            ],
            "text/html": [
              "\n",
              "  <div id=\"df-0ed12e0b-a93b-417e-825a-2af65dc02ec3\">\n",
              "    <div class=\"colab-df-container\">\n",
              "      <div>\n",
              "<style scoped>\n",
              "    .dataframe tbody tr th:only-of-type {\n",
              "        vertical-align: middle;\n",
              "    }\n",
              "\n",
              "    .dataframe tbody tr th {\n",
              "        vertical-align: top;\n",
              "    }\n",
              "\n",
              "    .dataframe thead th {\n",
              "        text-align: right;\n",
              "    }\n",
              "</style>\n",
              "<table border=\"1\" class=\"dataframe\">\n",
              "  <thead>\n",
              "    <tr style=\"text-align: right;\">\n",
              "      <th></th>\n",
              "      <th>V1</th>\n",
              "      <th>V2</th>\n",
              "      <th>V3</th>\n",
              "      <th>V4</th>\n",
              "      <th>V5</th>\n",
              "      <th>V6</th>\n",
              "      <th>V7</th>\n",
              "      <th>V8</th>\n",
              "      <th>V9</th>\n",
              "      <th>V10</th>\n",
              "      <th>...</th>\n",
              "      <th>V21</th>\n",
              "      <th>V22</th>\n",
              "      <th>V23</th>\n",
              "      <th>V24</th>\n",
              "      <th>V25</th>\n",
              "      <th>V26</th>\n",
              "      <th>V27</th>\n",
              "      <th>V28</th>\n",
              "      <th>Amount</th>\n",
              "      <th>Class</th>\n",
              "    </tr>\n",
              "  </thead>\n",
              "  <tbody>\n",
              "    <tr>\n",
              "      <th>0</th>\n",
              "      <td>-1.359807</td>\n",
              "      <td>-0.072781</td>\n",
              "      <td>2.536347</td>\n",
              "      <td>1.378155</td>\n",
              "      <td>-0.338321</td>\n",
              "      <td>0.462388</td>\n",
              "      <td>0.239599</td>\n",
              "      <td>0.098698</td>\n",
              "      <td>0.363787</td>\n",
              "      <td>0.090794</td>\n",
              "      <td>...</td>\n",
              "      <td>-0.018307</td>\n",
              "      <td>0.277838</td>\n",
              "      <td>-0.110474</td>\n",
              "      <td>0.066928</td>\n",
              "      <td>0.128539</td>\n",
              "      <td>-0.189115</td>\n",
              "      <td>0.133558</td>\n",
              "      <td>-0.021053</td>\n",
              "      <td>149.62</td>\n",
              "      <td>0</td>\n",
              "    </tr>\n",
              "    <tr>\n",
              "      <th>1</th>\n",
              "      <td>1.191857</td>\n",
              "      <td>0.266151</td>\n",
              "      <td>0.166480</td>\n",
              "      <td>0.448154</td>\n",
              "      <td>0.060018</td>\n",
              "      <td>-0.082361</td>\n",
              "      <td>-0.078803</td>\n",
              "      <td>0.085102</td>\n",
              "      <td>-0.255425</td>\n",
              "      <td>-0.166974</td>\n",
              "      <td>...</td>\n",
              "      <td>-0.225775</td>\n",
              "      <td>-0.638672</td>\n",
              "      <td>0.101288</td>\n",
              "      <td>-0.339846</td>\n",
              "      <td>0.167170</td>\n",
              "      <td>0.125895</td>\n",
              "      <td>-0.008983</td>\n",
              "      <td>0.014724</td>\n",
              "      <td>2.69</td>\n",
              "      <td>0</td>\n",
              "    </tr>\n",
              "  </tbody>\n",
              "</table>\n",
              "<p>2 rows × 30 columns</p>\n",
              "</div>\n",
              "      <button class=\"colab-df-convert\" onclick=\"convertToInteractive('df-0ed12e0b-a93b-417e-825a-2af65dc02ec3')\"\n",
              "              title=\"Convert this dataframe to an interactive table.\"\n",
              "              style=\"display:none;\">\n",
              "        \n",
              "  <svg xmlns=\"http://www.w3.org/2000/svg\" height=\"24px\"viewBox=\"0 0 24 24\"\n",
              "       width=\"24px\">\n",
              "    <path d=\"M0 0h24v24H0V0z\" fill=\"none\"/>\n",
              "    <path d=\"M18.56 5.44l.94 2.06.94-2.06 2.06-.94-2.06-.94-.94-2.06-.94 2.06-2.06.94zm-11 1L8.5 8.5l.94-2.06 2.06-.94-2.06-.94L8.5 2.5l-.94 2.06-2.06.94zm10 10l.94 2.06.94-2.06 2.06-.94-2.06-.94-.94-2.06-.94 2.06-2.06.94z\"/><path d=\"M17.41 7.96l-1.37-1.37c-.4-.4-.92-.59-1.43-.59-.52 0-1.04.2-1.43.59L10.3 9.45l-7.72 7.72c-.78.78-.78 2.05 0 2.83L4 21.41c.39.39.9.59 1.41.59.51 0 1.02-.2 1.41-.59l7.78-7.78 2.81-2.81c.8-.78.8-2.07 0-2.86zM5.41 20L4 18.59l7.72-7.72 1.47 1.35L5.41 20z\"/>\n",
              "  </svg>\n",
              "      </button>\n",
              "      \n",
              "  <style>\n",
              "    .colab-df-container {\n",
              "      display:flex;\n",
              "      flex-wrap:wrap;\n",
              "      gap: 12px;\n",
              "    }\n",
              "\n",
              "    .colab-df-convert {\n",
              "      background-color: #E8F0FE;\n",
              "      border: none;\n",
              "      border-radius: 50%;\n",
              "      cursor: pointer;\n",
              "      display: none;\n",
              "      fill: #1967D2;\n",
              "      height: 32px;\n",
              "      padding: 0 0 0 0;\n",
              "      width: 32px;\n",
              "    }\n",
              "\n",
              "    .colab-df-convert:hover {\n",
              "      background-color: #E2EBFA;\n",
              "      box-shadow: 0px 1px 2px rgba(60, 64, 67, 0.3), 0px 1px 3px 1px rgba(60, 64, 67, 0.15);\n",
              "      fill: #174EA6;\n",
              "    }\n",
              "\n",
              "    [theme=dark] .colab-df-convert {\n",
              "      background-color: #3B4455;\n",
              "      fill: #D2E3FC;\n",
              "    }\n",
              "\n",
              "    [theme=dark] .colab-df-convert:hover {\n",
              "      background-color: #434B5C;\n",
              "      box-shadow: 0px 1px 3px 1px rgba(0, 0, 0, 0.15);\n",
              "      filter: drop-shadow(0px 1px 2px rgba(0, 0, 0, 0.3));\n",
              "      fill: #FFFFFF;\n",
              "    }\n",
              "  </style>\n",
              "\n",
              "      <script>\n",
              "        const buttonEl =\n",
              "          document.querySelector('#df-0ed12e0b-a93b-417e-825a-2af65dc02ec3 button.colab-df-convert');\n",
              "        buttonEl.style.display =\n",
              "          google.colab.kernel.accessAllowed ? 'block' : 'none';\n",
              "\n",
              "        async function convertToInteractive(key) {\n",
              "          const element = document.querySelector('#df-0ed12e0b-a93b-417e-825a-2af65dc02ec3');\n",
              "          const dataTable =\n",
              "            await google.colab.kernel.invokeFunction('convertToInteractive',\n",
              "                                                     [key], {});\n",
              "          if (!dataTable) return;\n",
              "\n",
              "          const docLinkHtml = 'Like what you see? Visit the ' +\n",
              "            '<a target=\"_blank\" href=https://colab.research.google.com/notebooks/data_table.ipynb>data table notebook</a>'\n",
              "            + ' to learn more about interactive tables.';\n",
              "          element.innerHTML = '';\n",
              "          dataTable['output_type'] = 'display_data';\n",
              "          await google.colab.output.renderOutput(dataTable, element);\n",
              "          const docLink = document.createElement('div');\n",
              "          docLink.innerHTML = docLinkHtml;\n",
              "          element.appendChild(docLink);\n",
              "        }\n",
              "      </script>\n",
              "    </div>\n",
              "  </div>\n",
              "  "
            ]
          },
          "metadata": {},
          "execution_count": 41
        }
      ]
    },
    {
      "cell_type": "code",
      "metadata": {
        "id": "Dx4Tc85MFffW",
        "colab": {
          "base_uri": "https://localhost:8080/"
        },
        "outputId": "d07a94e4-8b12-42c6-9508-ce1d8a2e3bd3"
      },
      "source": [
        "data.Class.value_counts()"
      ],
      "execution_count": null,
      "outputs": [
        {
          "output_type": "execute_result",
          "data": {
            "text/plain": [
              "0    284315\n",
              "1       492\n",
              "Name: Class, dtype: int64"
            ]
          },
          "metadata": {},
          "execution_count": 42
        }
      ]
    },
    {
      "cell_type": "markdown",
      "source": [
        "###Importing Modules"
      ],
      "metadata": {
        "id": "ON81mZ47jt1l"
      }
    },
    {
      "cell_type": "code",
      "metadata": {
        "id": "tTdnH4Vo9Bz7"
      },
      "source": [
        "from sklearn.ensemble import IsolationForest\n",
        "from sklearn.svm import OneClassSVM\n",
        "from sklearn.neighbors import LocalOutlierFactor\n",
        "from sklearn.cluster import KMeans\n",
        "from sklearn.model_selection import train_test_split\n",
        "from sklearn.metrics import accuracy_score\n",
        "from sklearn.metrics import auc\n",
        "from sklearn.metrics import roc_curve\n",
        "from sklearn.metrics import roc_auc_score\n",
        "from sklearn.metrics import confusion_matrix, precision_recall_fscore_support"
      ],
      "execution_count": null,
      "outputs": []
    },
    {
      "cell_type": "markdown",
      "source": [
        "###Splitting of Dataset"
      ],
      "metadata": {
        "id": "4iCNOLabj2DL"
      }
    },
    {
      "cell_type": "code",
      "metadata": {
        "id": "fyclJzJBBSKL"
      },
      "source": [
        "# Dividing the dataset into testing and validation sets (60/40 class distribution)\n",
        "y_true=data['Class']\n",
        "df_data=data.drop('Class',1)\n",
        "X_train, X_test, y_train, y_test = train_test_split(df_data, y_true, test_size=0.4, random_state=42)"
      ],
      "execution_count": null,
      "outputs": []
    },
    {
      "cell_type": "markdown",
      "source": [
        "###Model Training and Prediction Functions"
      ],
      "metadata": {
        "id": "kpBMxvUmj5Tx"
      }
    },
    {
      "cell_type": "code",
      "metadata": {
        "id": "V9qmYi4yB77q"
      },
      "source": [
        "# Train the model 5 times separately on 5 randomized samples of 10000 and add trained model to an model array\n",
        "def train(X,clf,ensembleSize=5,sampleSize=10000):\n",
        "    mdlLst=[]\n",
        "    for n in range(ensembleSize):\n",
        "        X=df_data.sample(sampleSize)\n",
        "        clf.fit(X)\n",
        "        mdlLst.append(clf)\n",
        "    return mdlLst"
      ],
      "execution_count": null,
      "outputs": []
    },
    {
      "cell_type": "code",
      "metadata": {
        "id": "pAuI7nugCES1"
      },
      "source": [
        "## Prediction function\n",
        "def predict(X,mdlLst):\n",
        "    y_pred=np.zeros(X.shape[0])\n",
        "    for clf in mdlLst:\n",
        "        y_pred=np.add(y_pred,clf.decision_function(X).reshape(X.shape[0],))\n",
        "    y_pred=(y_pred*1.0)/len(mdlLst)\n",
        "    return y_pred"
      ],
      "execution_count": null,
      "outputs": []
    },
    {
      "cell_type": "markdown",
      "source": [
        "###Initialize Isolation forest model"
      ],
      "metadata": {
        "id": "0P6eI5c1kxiu"
      }
    },
    {
      "cell_type": "code",
      "metadata": {
        "id": "WE76xUJABXQM"
      },
      "source": [
        "alg1=IsolationForest(n_estimators=100,\n",
        "                     max_samples='auto',\n",
        "                     contamination=0.01,\n",
        "                     max_features=1.0,\n",
        "                     bootstrap=False,\n",
        "                     n_jobs=-1,\n",
        "                     random_state=42,\n",
        "                     verbose=0)"
      ],
      "execution_count": null,
      "outputs": []
    },
    {
      "cell_type": "code",
      "source": [
        "alg2=IsolationForest(n_estimators=1000,\n",
        "                     max_samples='auto',\n",
        "                     contamination=0.02,\n",
        "                     max_features=1.0,\n",
        "                     bootstrap=True,\n",
        "                     n_jobs=-1,\n",
        "                     random_state=42,\n",
        "                     verbose=0)"
      ],
      "metadata": {
        "id": "uVxdxsqvEWrt"
      },
      "execution_count": null,
      "outputs": []
    },
    {
      "cell_type": "markdown",
      "source": [
        "###Training the Models"
      ],
      "metadata": {
        "id": "CbECrTszlW7M"
      }
    },
    {
      "cell_type": "code",
      "metadata": {
        "id": "GJNHO13UBylZ"
      },
      "source": [
        "if_mdlLst1=train(X_train,alg1)"
      ],
      "execution_count": null,
      "outputs": []
    },
    {
      "cell_type": "code",
      "source": [
        "if_mdlLst2=train(X_train,alg2)"
      ],
      "metadata": {
        "id": "agKmxJWQEe8m"
      },
      "execution_count": null,
      "outputs": []
    },
    {
      "cell_type": "markdown",
      "source": [
        "###Predicting Anomalies"
      ],
      "metadata": {
        "id": "YpLTEQ5tla3Q"
      }
    },
    {
      "cell_type": "code",
      "metadata": {
        "id": "wRDI2ht3BehN"
      },
      "source": [
        "## With n_estimators == 100\n",
        "if_y_pred1=predict(X_test,if_mdlLst1)\n",
        "if_y_pred1=1-if_y_pred1\n",
        "\n",
        "#Creating class labels based on decision function\n",
        "if_y_pred1_class=if_y_pred1.copy()\n",
        "if_y_pred1_class[if_y_pred1>=np.percentile(if_y_pred1,95)]=1\n",
        "if_y_pred1_class[if_y_pred1<np.percentile(if_y_pred1,95)]=0"
      ],
      "execution_count": null,
      "outputs": []
    },
    {
      "cell_type": "code",
      "metadata": {
        "id": "Rio5cQ4pDRUC"
      },
      "source": [
        "# With n_estimators == 1000\n",
        "if_y_pred2=predict(X_test,if_mdlLst2)\n",
        "if_y_pred2=1-if_y_pred2\n",
        "\n",
        "#Creating class labels based on decision function\n",
        "if_y_pred2_class=if_y_pred2.copy()\n",
        "if_y_pred2_class[if_y_pred2>=np.percentile(if_y_pred2,95)]=1\n",
        "if_y_pred2_class[if_y_pred2<np.percentile(if_y_pred2,95)]=0"
      ],
      "execution_count": null,
      "outputs": []
    },
    {
      "cell_type": "markdown",
      "source": [
        "###Calculation of  ROC_AUC score"
      ],
      "metadata": {
        "id": "tMeNG7dylgJv"
      }
    },
    {
      "cell_type": "code",
      "metadata": {
        "id": "rtmFJCbRDbIU",
        "colab": {
          "base_uri": "https://localhost:8080/"
        },
        "outputId": "0e383b0f-6956-41aa-ad4c-ba7eabfafaaf"
      },
      "source": [
        "# With n_estimators == 100\n",
        "fpr1, tpr1, _1 = roc_curve(y_test, if_y_pred1_class)\n",
        "# AUC\n",
        "IF_auc1 = auc(fpr1, tpr1)\n",
        "print(IF_auc1)"
      ],
      "execution_count": null,
      "outputs": [
        {
          "output_type": "stream",
          "name": "stdout",
          "text": [
            "0.902372446071899\n",
            "0.902372446071899\n"
          ]
        }
      ]
    },
    {
      "cell_type": "code",
      "metadata": {
        "colab": {
          "base_uri": "https://localhost:8080/"
        },
        "outputId": "959fc0ed-d101-45d0-822e-ec920e949213",
        "id": "2jUqYUH44ihf"
      },
      "source": [
        "# With n_estimators == 1000\n",
        "fpr2, tpr2, _2 = roc_curve(y_test, if_y_pred2_class)\n",
        "# AUC\n",
        "IF_auc2 = auc(fpr2, tpr2)\n",
        "print(IF_auc2)"
      ],
      "execution_count": null,
      "outputs": [
        {
          "output_type": "stream",
          "name": "stdout",
          "text": [
            "0.8997502487247047\n",
            "0.8997502487247047\n"
          ]
        }
      ]
    },
    {
      "cell_type": "markdown",
      "source": [
        "###Confusion Matrix"
      ],
      "metadata": {
        "id": "IX4fY7tGlnE9"
      }
    },
    {
      "cell_type": "code",
      "metadata": {
        "id": "8zXxpn4vDgBd"
      },
      "source": [
        "if_cm=confusion_matrix(y_test, if_y_pred2_class)"
      ],
      "execution_count": null,
      "outputs": []
    },
    {
      "cell_type": "code",
      "metadata": {
        "id": "JJJvJRRLEdgJ",
        "colab": {
          "base_uri": "https://localhost:8080/",
          "height": 290
        },
        "outputId": "e0842d3c-3ee0-4e05-fef6-d177baed2d8f"
      },
      "source": [
        "import seaborn as sn\n",
        "import matplotlib.pyplot as plt\n",
        "df_cm = pd.DataFrame(if_cm,\n",
        "                  ['True Normal','True Fraud'],['Pred Normal','Pred Fraud'])\n",
        "plt.figure(figsize = (8,4))\n",
        "sn.set(font_scale=1.4)#for label size\n",
        "sn.heatmap(df_cm, annot=True,annot_kws={\"size\": 16},fmt='g')# font size"
      ],
      "execution_count": null,
      "outputs": [
        {
          "output_type": "execute_result",
          "data": {
            "text/plain": [
              "<matplotlib.axes._subplots.AxesSubplot at 0x7f0eccb1f610>"
            ]
          },
          "metadata": {},
          "execution_count": 56
        },
        {
          "output_type": "display_data",
          "data": {
            "text/plain": [
              "<Figure size 576x288 with 2 Axes>"
            ],
            "image/png": "[encoded data removed]"
          },
          "metadata": {}
        }
      ]
    },
    {
      "cell_type": "markdown",
      "source": [
        "#Automate Best Parameters"
      ],
      "metadata": {
        "id": "oPhPn-v1Qrct"
      }
    },
    {
      "cell_type": "code",
      "source": [
        "import math\n",
        "import numpy as np\n",
        "import pandas as pd\n",
        "import matplotlib.pyplot as plt\n",
        "from datetime import date, timedelta, datetime\n",
        "import seaborn as sns\n",
        "from sklearn.ensemble import IsolationForest\n",
        "from sklearn.model_selection import train_test_split\n",
        "from sklearn.neighbors import LocalOutlierFactor, KNeighborsClassifier\n",
        "from sklearn.metrics import accuracy_score, confusion_matrix, classification_report, plot_confusion_matrix, f1_score\n",
        "from sklearn.metrics import fbeta_score, make_scorer\n",
        "from sklearn.model_selection import GridSearchCV"
      ],
      "metadata": {
        "id": "yWtBdpUc5BP2"
      },
      "execution_count": null,
      "outputs": []
    },
    {
      "cell_type": "code",
      "source": [
        "df = pd.read_csv('/content/drive/MyDrive/ISAA/creditcard.csv')"
      ],
      "metadata": {
        "id": "igFg7BFf5DsZ"
      },
      "execution_count": null,
      "outputs": []
    },
    {
      "cell_type": "code",
      "source": [
        "# Plot the balance of class labels\n",
        "fig1, ax1 = plt.subplots(figsize=(14, 7))\n",
        "plt.pie(df[['Class']].value_counts(), explode=[0,0.1], labels=[0,1], autopct='%1.2f%%', shadow=True, startangle=45)"
      ],
      "metadata": {
        "colab": {
          "base_uri": "https://localhost:8080/",
          "height": 515
        },
        "id": "voaixvuh86zJ",
        "outputId": "5e70af3f-33f1-47da-d91e-64f6e0dd8ad8"
      },
      "execution_count": null,
      "outputs": [
        {
          "output_type": "execute_result",
          "data": {
            "text/plain": [
              "([<matplotlib.patches.Wedge at 0x7f0e9fa54190>,\n",
              "  <matplotlib.patches.Wedge at 0x7f0e9fa54d90>],\n",
              " [Text(-0.7820271852666787, -0.7735848250217141, '0'),\n",
              "  Text(0.8531205024736381, 0.8439107821678352, '1')],\n",
              " [Text(-0.4265602828727338, -0.4219553591027531, '99.83%'),\n",
              "  Text(0.4976536264429556, 0.49228128959790385, '0.17%')])"
            ]
          },
          "metadata": {},
          "execution_count": 60
        },
        {
          "output_type": "display_data",
          "data": {
            "text/plain": [
              "<Figure size 1008x504 with 1 Axes>"
            ],
            "image/png": "[encoded data removed]"
          },
          "metadata": {}
        }
      ]
    },
    {
      "cell_type": "code",
      "source": [
        "df_classes = df['Class']\n",
        "df_train = df.drop(['Class'], axis=1)\n",
        "\n",
        "# split the data into train and test\n",
        "X_train, X_test, y_train, y_test = train_test_split(df_train, df_classes, test_size=0.40, random_state=42)"
      ],
      "metadata": {
        "id": "iegaccTF4pMG"
      },
      "execution_count": null,
      "outputs": []
    },
    {
      "cell_type": "code",
      "source": [
        "# Define the parameter grid\n",
        "n_estimators=[50, 100]\n",
        "max_features=[1.0, 5, 10]\n",
        "bootstrap=[True]\n",
        "contamination_rate=[0.01,0.05]\n",
        "param_grid = dict(n_estimators=n_estimators, max_features=max_features,contamination=contamination_rate,bootstrap=bootstrap)\n",
        "\n",
        "# Build the gridsearch\n",
        "model_isf = IsolationForest(n_estimators=n_estimators,\n",
        "                            max_features=max_features,\n",
        "                            contamination=contamination_rate,\n",
        "                            bootstrap=True,\n",
        "                            n_jobs=-1)\n",
        "\n",
        "# Define an f1_scorer\n",
        "f1sc = make_scorer(f1_score, average='macro')\n",
        "\n",
        "grid = GridSearchCV(estimator=model_isf, param_grid=param_grid, cv = 2, scoring=f1sc)\n",
        "grid_results = grid.fit(X=X_train, y=y_train)\n",
        "\n",
        "# Summarize the results in a readable format\n",
        "print(\"Best: {0}, \\nusing {1}\".format(grid_results.cv_results_['mean_test_score'], grid_results.best_params_))\n",
        "results_df = pd.DataFrame(grid_results.cv_results_)\n",
        "\n",
        "# Evaluate model performance\n",
        "model_name = 'Isolation Forest (tuned)'\n",
        "print(f'{model_name} model')\n",
        "\n",
        "best_model = grid_results.best_estimator_\n",
        "map_labels = True # if True - maps 1 to 0 and -1 to 1 - not required for scikit-learn knn models\n",
        "'''model_score1 = measure_performance(best_model, X_test, y_test, map_labels)\n",
        "performance_df = performance_df.append({'model_name':model_name,\n",
        "                                    'f1_score': model_score1[0],\n",
        "                                    'precision': model_score1[1],\n",
        "                                    'recall': model_score1[2]}, ignore_index=True)'''\n",
        "\n",
        "def measure_performance(model, X_test, y_true, map_labels):\n",
        "    # predict on testset\n",
        "    df_pred_test = X_test.copy()\n",
        "    df_pred_test['Class'] = y_test\n",
        "    df_pred_test['Pred'] = model.predict(X_test)\n",
        "    if map_labels:\n",
        "        df_pred_test['Pred'] = df_pred_test['Pred'].map({1: 0, -1: 1})\n",
        "    #df_pred_test['Outlier_Score'] = model.decision_function(X_test)\n",
        "\n",
        "    # measure performance\n",
        "    y_true = df_pred_test['Class']\n",
        "    x_pred = df_pred_test['Pred']\n",
        "    matrix = confusion_matrix(x_pred, y_true)\n",
        "\n",
        "    sns.heatmap(pd.DataFrame(matrix, columns = ['Actual', 'Predicted']),\n",
        "                xticklabels=['Regular [0]', 'Fraud [1]'],\n",
        "                yticklabels=['Regular [0]', 'Fraud [1]'],\n",
        "                annot=True, fmt=\"d\", linewidths=.5, cmap=\"YlGnBu\")\n",
        "    plt.ylabel('Predicted')\n",
        "    plt.xlabel('Actual')\n",
        "\n",
        "    print(classification_report(x_pred, y_true))\n",
        "print(measure_performance(best_model, X_test, y_test, map_labels))"
      ],
      "metadata": {
        "colab": {
          "base_uri": "https://localhost:8080/",
          "height": 538
        },
        "id": "1L043dmC2Mmf",
        "outputId": "8437b431-dfc9-4c37-ece5-55eb58aef9df"
      },
      "execution_count": null,
      "outputs": [
        {
          "output_type": "stream",
          "name": "stdout",
          "text": [
            "Best: [0.00055457 0.0005901  0.0004603  0.0004524  0.00049564 0.00046415\n",
            " 0.00018033 0.00018031 0.00019689 0.00019271 0.00021308 0.00018434], \n",
            "using {'bootstrap': True, 'contamination': 0.01, 'max_features': 1.0, 'n_estimators': 100}\n",
            "Isolation Forest (tuned) model\n",
            "              precision    recall  f1-score   support\n",
            "\n",
            "           0       0.99      1.00      1.00    112810\n",
            "           1       0.64      0.11      0.19      1113\n",
            "\n",
            "    accuracy                           0.99    113923\n",
            "   macro avg       0.82      0.55      0.59    113923\n",
            "weighted avg       0.99      0.99      0.99    113923\n",
            "\n",
            "None\n"
          ]
        },
        {
          "output_type": "display_data",
          "data": {
            "text/plain": [
              "<Figure size 432x288 with 2 Axes>"
            ],
            "image/png": "[encoded data removed]"
          },
          "metadata": {}
        }
      ]
    }
  ]
}